{
 "cells": [
  {
   "attachments": {
    "image.png": {
     "image/png": "[encoded data removed]"
    }
   },
   "cell_type": "markdown",
   "metadata": {},
   "source": [
    "## Understanding the Experiment/Understanding the Data Structure: \n",
    "---\n",
    "Week 2 - Aresty: Christopher Lam\n",
    "\n",
    "An EM2040 sonar is mounted to the keel of an ROV (in this case a cart on rails across a pool), as such:\\\n",
    "![image.png](attachment:image.png)\n",
    "\n",
    "The structure of the data:\n",
    "* The data from the sensor will come in pings\n",
    "* Each ping is comprised of N beams (~256). Each individual beam can be broken down into a timeseries of amplitudes\n",
    "    * The amplitude series has a separate timescale then the one between separate pings.\n",
    "    * The movement of the sonar system (AUV) can also influence this although we currently do not take this into account\n",
    "* We can interpret the data as a 3D Matrix with the following dimensions:\n",
    "    * Ping #\n",
    "    * Beam #\n",
    "    * Time along beam (Samples)\n",
    "        \n",
    "A few things to note when observing the data:\n",
    "* The backscattering intensity is  proportional to the 'hardness' of the material (higher decibles = harder material)\n",
    "* The frequency of the beam will affect the width of the beam (higher frequencies result in a 'tighter' cone if depth is constant)\n",
    "* \n",
    "\n",
    "TASK: Plot a 3D visualization of the water column data from April 13 [Data](https://docs.google.com/document/d/12uC_UFb2oGnpR9hk4VBBNUJgEMYkZq3b/edit)"
   ]
  },
  {
   "cell_type": "code",
   "execution_count": 49,
   "metadata": {},
   "outputs": [],
   "source": [
    "import KMALL\n",
    "import numpy as np\n",
    "import pandas as pd\n",
    "import matplotlib.pyplot as plt\n",
    "import warnings\n",
    "\n",
    "warnings.simplefilter(action='ignore', category=FutureWarning)"
   ]
  },
  {
   "cell_type": "code",
   "execution_count": 42,
   "metadata": {},
   "outputs": [
    {
     "name": "stdout",
     "output_type": "stream",
     "text": [
      "File \"data/0001_20230413_160826.kmwcd\" contains the following datagrams:\n",
      "             Count     Size:  Min Size  Max Size\n",
      "MessageType                                     \n",
      "b'#CHE'        213      8520        40        40\n",
      "b'#IIP'          1      1106      1106      1106\n",
      "b'#IOP'          1      1232      1232      1232\n",
      "b'#MWC'        213  31117076    142340    152120\n",
      "b'#SVP'          1       112       112       112\n"
     ]
    }
   ],
   "source": [
    "# Import the data (April 13 UNH data, kmwcd = water column data)\n",
    "filepath = 'data/0001_20230413_160826.kmwcd'\n",
    "\n",
    "# Read the data\n",
    "ping_data = KMALL.kmall(filepath)\n",
    "ping_data.index_file()\n",
    "print('File \"{}\" contains the following datagrams:'.format(filepath))\n",
    "ping_data.report_packet_types()"
   ]
  },
  {
   "cell_type": "markdown",
   "metadata": {},
   "source": [
    "There are different packet types that are contained within the data file. We are only concerned with the #MWC or multibeam water column datagram"
   ]
  },
  {
   "cell_type": "code",
   "execution_count": 53,
   "metadata": {},
   "outputs": [
    {
     "name": "stdout",
     "output_type": "stream",
     "text": [
      "Found 213 MWC packets\n",
      "              ByteOffset  MessageSize MessageType\n",
      "Time                                             \n",
      "1.681402e+09        2490       143844     b'#MWC'\n",
      "1.681402e+09      146374       144328     b'#MWC'\n",
      "1.681402e+09      290742       143668     b'#MWC'\n",
      "1.681402e+09      434450       147104     b'#MWC'\n",
      "1.681402e+09      581594       144472     b'#MWC'\n",
      "...                  ...          ...         ...\n",
      "1.681402e+09    30376246       149684     b'#MWC'\n",
      "1.681402e+09    30525970       151448     b'#MWC'\n",
      "1.681402e+09    30677458       149612     b'#MWC'\n",
      "1.681402e+09    30827110       149884     b'#MWC'\n",
      "1.681402e+09    30977034       151012     b'#MWC'\n",
      "\n",
      "[213 rows x 3 columns]\n"
     ]
    },
    {
     "ename": "AttributeError",
     "evalue": "'kmall' object has no attribute 'read_index_row'",
     "output_type": "error",
     "traceback": [
      "\u001b[1;31m---------------------------------------------------------------------------\u001b[0m",
      "\u001b[1;31mAttributeError\u001b[0m                            Traceback (most recent call last)",
      "Cell \u001b[1;32mIn[53], line 7\u001b[0m\n\u001b[0;32m      4\u001b[0m \u001b[38;5;28mprint\u001b[39m(MWC_idx)\n\u001b[0;32m      6\u001b[0m \u001b[38;5;66;03m# Extract the MWC data\u001b[39;00m\n\u001b[1;32m----> 7\u001b[0m ping_datagrams \u001b[38;5;241m=\u001b[39m \u001b[43mping_data\u001b[49m\u001b[38;5;241;43m.\u001b[39;49m\u001b[43mread_index_row\u001b[49m(MWC_idx)\n",
      "\u001b[1;31mAttributeError\u001b[0m: 'kmall' object has no attribute 'read_index_row'"
     ]
    }
   ],
   "source": [
    "MWC_packets = ping_data.Index[\"MessageType\"] == \"b'#MWC'\"\n",
    "MWC_idx = ping_data.Index[MWC_packets]\n",
    "print('Found {} MWC packets'.format(len(MWC_idx)))\n",
    "print(MWC_idx)\n",
    "\n",
    "# Extract the MWC data\n",
    "ping_datagrams = ping_data.read_index_row(MWC_idx)"
   ]
  },
  {
   "cell_type": "code",
   "execution_count": null,
   "metadata": {},
   "outputs": [],
   "source": []
  }
 ],
 "metadata": {
  "kernelspec": {
   "display_name": "Python 3",
   "language": "python",
   "name": "python3"
  },
  "language_info": {
   "codemirror_mode": {
    "name": "ipython",
    "version": 3
   },
   "file_extension": ".py",
   "mimetype": "text/x-python",
   "name": "python",
   "nbconvert_exporter": "python",
   "pygments_lexer": "ipython3",
   "version": "3.12.5"
  }
 },
 "nbformat": 4,
 "nbformat_minor": 2
}
